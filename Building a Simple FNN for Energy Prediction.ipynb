{
 "cells": [
  {
   "cell_type": "code",
   "execution_count": 1,
   "id": "bd4fdbc0-0c74-470d-b588-18932518f3fa",
   "metadata": {},
   "outputs": [
    {
     "name": "stdout",
     "output_type": "stream",
     "text": [
      "Requirement already satisfied: numpy in c:\\users\\siddd\\anaconda3\\lib\\site-packages (1.26.4)\n",
      "Requirement already satisfied: pandas in c:\\users\\siddd\\anaconda3\\lib\\site-packages (2.2.2)\n",
      "Requirement already satisfied: matplotlib in c:\\users\\siddd\\anaconda3\\lib\\site-packages (3.8.4)\n",
      "Requirement already satisfied: tensorflow in c:\\users\\siddd\\anaconda3\\lib\\site-packages (2.18.0)\n",
      "Requirement already satisfied: scikit-learn in c:\\users\\siddd\\anaconda3\\lib\\site-packages (1.4.2)\n",
      "Requirement already satisfied: python-dateutil>=2.8.2 in c:\\users\\siddd\\anaconda3\\lib\\site-packages (from pandas) (2.9.0.post0)\n",
      "Requirement already satisfied: pytz>=2020.1 in c:\\users\\siddd\\anaconda3\\lib\\site-packages (from pandas) (2024.1)\n",
      "Requirement already satisfied: tzdata>=2022.7 in c:\\users\\siddd\\anaconda3\\lib\\site-packages (from pandas) (2023.3)\n",
      "Requirement already satisfied: contourpy>=1.0.1 in c:\\users\\siddd\\anaconda3\\lib\\site-packages (from matplotlib) (1.2.0)\n",
      "Requirement already satisfied: cycler>=0.10 in c:\\users\\siddd\\anaconda3\\lib\\site-packages (from matplotlib) (0.11.0)\n",
      "Requirement already satisfied: fonttools>=4.22.0 in c:\\users\\siddd\\anaconda3\\lib\\site-packages (from matplotlib) (4.51.0)\n",
      "Requirement already satisfied: kiwisolver>=1.3.1 in c:\\users\\siddd\\anaconda3\\lib\\site-packages (from matplotlib) (1.4.4)\n",
      "Requirement already satisfied: packaging>=20.0 in c:\\users\\siddd\\anaconda3\\lib\\site-packages (from matplotlib) (23.2)\n",
      "Requirement already satisfied: pillow>=8 in c:\\users\\siddd\\anaconda3\\lib\\site-packages (from matplotlib) (10.3.0)\n",
      "Requirement already satisfied: pyparsing>=2.3.1 in c:\\users\\siddd\\anaconda3\\lib\\site-packages (from matplotlib) (3.0.9)\n",
      "Requirement already satisfied: tensorflow-intel==2.18.0 in c:\\users\\siddd\\anaconda3\\lib\\site-packages (from tensorflow) (2.18.0)\n",
      "Requirement already satisfied: absl-py>=1.0.0 in c:\\users\\siddd\\anaconda3\\lib\\site-packages (from tensorflow-intel==2.18.0->tensorflow) (2.1.0)\n",
      "Requirement already satisfied: astunparse>=1.6.0 in c:\\users\\siddd\\anaconda3\\lib\\site-packages (from tensorflow-intel==2.18.0->tensorflow) (1.6.3)\n",
      "Requirement already satisfied: flatbuffers>=24.3.25 in c:\\users\\siddd\\anaconda3\\lib\\site-packages (from tensorflow-intel==2.18.0->tensorflow) (24.12.23)\n",
      "Requirement already satisfied: gast!=0.5.0,!=0.5.1,!=0.5.2,>=0.2.1 in c:\\users\\siddd\\anaconda3\\lib\\site-packages (from tensorflow-intel==2.18.0->tensorflow) (0.6.0)\n",
      "Requirement already satisfied: google-pasta>=0.1.1 in c:\\users\\siddd\\anaconda3\\lib\\site-packages (from tensorflow-intel==2.18.0->tensorflow) (0.2.0)\n",
      "Requirement already satisfied: libclang>=13.0.0 in c:\\users\\siddd\\anaconda3\\lib\\site-packages (from tensorflow-intel==2.18.0->tensorflow) (18.1.1)\n",
      "Requirement already satisfied: opt-einsum>=2.3.2 in c:\\users\\siddd\\anaconda3\\lib\\site-packages (from tensorflow-intel==2.18.0->tensorflow) (3.4.0)\n",
      "Requirement already satisfied: protobuf!=4.21.0,!=4.21.1,!=4.21.2,!=4.21.3,!=4.21.4,!=4.21.5,<6.0.0dev,>=3.20.3 in c:\\users\\siddd\\anaconda3\\lib\\site-packages (from tensorflow-intel==2.18.0->tensorflow) (3.20.3)\n",
      "Requirement already satisfied: requests<3,>=2.21.0 in c:\\users\\siddd\\anaconda3\\lib\\site-packages (from tensorflow-intel==2.18.0->tensorflow) (2.32.2)\n",
      "Requirement already satisfied: setuptools in c:\\users\\siddd\\anaconda3\\lib\\site-packages (from tensorflow-intel==2.18.0->tensorflow) (69.5.1)\n",
      "Requirement already satisfied: six>=1.12.0 in c:\\users\\siddd\\anaconda3\\lib\\site-packages (from tensorflow-intel==2.18.0->tensorflow) (1.16.0)\n",
      "Requirement already satisfied: termcolor>=1.1.0 in c:\\users\\siddd\\anaconda3\\lib\\site-packages (from tensorflow-intel==2.18.0->tensorflow) (2.5.0)\n",
      "Requirement already satisfied: typing-extensions>=3.6.6 in c:\\users\\siddd\\anaconda3\\lib\\site-packages (from tensorflow-intel==2.18.0->tensorflow) (4.11.0)\n",
      "Requirement already satisfied: wrapt>=1.11.0 in c:\\users\\siddd\\anaconda3\\lib\\site-packages (from tensorflow-intel==2.18.0->tensorflow) (1.14.1)\n",
      "Requirement already satisfied: grpcio<2.0,>=1.24.3 in c:\\users\\siddd\\anaconda3\\lib\\site-packages (from tensorflow-intel==2.18.0->tensorflow) (1.69.0)\n",
      "Requirement already satisfied: tensorboard<2.19,>=2.18 in c:\\users\\siddd\\anaconda3\\lib\\site-packages (from tensorflow-intel==2.18.0->tensorflow) (2.18.0)\n",
      "Requirement already satisfied: keras>=3.5.0 in c:\\users\\siddd\\anaconda3\\lib\\site-packages (from tensorflow-intel==2.18.0->tensorflow) (3.8.0)\n",
      "Requirement already satisfied: h5py>=3.11.0 in c:\\users\\siddd\\anaconda3\\lib\\site-packages (from tensorflow-intel==2.18.0->tensorflow) (3.11.0)\n",
      "Requirement already satisfied: ml-dtypes<0.5.0,>=0.4.0 in c:\\users\\siddd\\anaconda3\\lib\\site-packages (from tensorflow-intel==2.18.0->tensorflow) (0.4.1)\n",
      "Requirement already satisfied: scipy>=1.6.0 in c:\\users\\siddd\\anaconda3\\lib\\site-packages (from scikit-learn) (1.13.1)\n",
      "Requirement already satisfied: joblib>=1.2.0 in c:\\users\\siddd\\anaconda3\\lib\\site-packages (from scikit-learn) (1.4.2)\n",
      "Requirement already satisfied: threadpoolctl>=2.0.0 in c:\\users\\siddd\\anaconda3\\lib\\site-packages (from scikit-learn) (2.2.0)\n",
      "Requirement already satisfied: wheel<1.0,>=0.23.0 in c:\\users\\siddd\\anaconda3\\lib\\site-packages (from astunparse>=1.6.0->tensorflow-intel==2.18.0->tensorflow) (0.43.0)\n",
      "Requirement already satisfied: rich in c:\\users\\siddd\\anaconda3\\lib\\site-packages (from keras>=3.5.0->tensorflow-intel==2.18.0->tensorflow) (13.3.5)\n",
      "Requirement already satisfied: namex in c:\\users\\siddd\\anaconda3\\lib\\site-packages (from keras>=3.5.0->tensorflow-intel==2.18.0->tensorflow) (0.0.8)\n",
      "Requirement already satisfied: optree in c:\\users\\siddd\\anaconda3\\lib\\site-packages (from keras>=3.5.0->tensorflow-intel==2.18.0->tensorflow) (0.13.1)\n",
      "Requirement already satisfied: charset-normalizer<4,>=2 in c:\\users\\siddd\\anaconda3\\lib\\site-packages (from requests<3,>=2.21.0->tensorflow-intel==2.18.0->tensorflow) (2.0.4)\n",
      "Requirement already satisfied: idna<4,>=2.5 in c:\\users\\siddd\\anaconda3\\lib\\site-packages (from requests<3,>=2.21.0->tensorflow-intel==2.18.0->tensorflow) (3.7)\n",
      "Requirement already satisfied: urllib3<3,>=1.21.1 in c:\\users\\siddd\\anaconda3\\lib\\site-packages (from requests<3,>=2.21.0->tensorflow-intel==2.18.0->tensorflow) (2.2.2)\n",
      "Requirement already satisfied: certifi>=2017.4.17 in c:\\users\\siddd\\anaconda3\\lib\\site-packages (from requests<3,>=2.21.0->tensorflow-intel==2.18.0->tensorflow) (2024.6.2)\n",
      "Requirement already satisfied: markdown>=2.6.8 in c:\\users\\siddd\\anaconda3\\lib\\site-packages (from tensorboard<2.19,>=2.18->tensorflow-intel==2.18.0->tensorflow) (3.4.1)\n",
      "Requirement already satisfied: tensorboard-data-server<0.8.0,>=0.7.0 in c:\\users\\siddd\\anaconda3\\lib\\site-packages (from tensorboard<2.19,>=2.18->tensorflow-intel==2.18.0->tensorflow) (0.7.2)\n",
      "Requirement already satisfied: werkzeug>=1.0.1 in c:\\users\\siddd\\anaconda3\\lib\\site-packages (from tensorboard<2.19,>=2.18->tensorflow-intel==2.18.0->tensorflow) (3.0.3)\n",
      "Requirement already satisfied: MarkupSafe>=2.1.1 in c:\\users\\siddd\\anaconda3\\lib\\site-packages (from werkzeug>=1.0.1->tensorboard<2.19,>=2.18->tensorflow-intel==2.18.0->tensorflow) (2.1.3)\n",
      "Requirement already satisfied: markdown-it-py<3.0.0,>=2.2.0 in c:\\users\\siddd\\anaconda3\\lib\\site-packages (from rich->keras>=3.5.0->tensorflow-intel==2.18.0->tensorflow) (2.2.0)\n",
      "Requirement already satisfied: pygments<3.0.0,>=2.13.0 in c:\\users\\siddd\\anaconda3\\lib\\site-packages (from rich->keras>=3.5.0->tensorflow-intel==2.18.0->tensorflow) (2.15.1)\n",
      "Requirement already satisfied: mdurl~=0.1 in c:\\users\\siddd\\anaconda3\\lib\\site-packages (from markdown-it-py<3.0.0,>=2.2.0->rich->keras>=3.5.0->tensorflow-intel==2.18.0->tensorflow) (0.1.0)\n",
      "Note: you may need to restart the kernel to use updated packages.\n"
     ]
    }
   ],
   "source": [
    "pip install numpy pandas matplotlib tensorflow scikit-learn"
   ]
  },
  {
   "cell_type": "markdown",
   "id": "15d091d2-05aa-42ad-a150-a8730f9b445c",
   "metadata": {},
   "source": [
    "#### Importing libraries"
   ]
  },
  {
   "cell_type": "code",
   "execution_count": 2,
   "id": "7e30f574-71d0-460f-adf4-6691faea9518",
   "metadata": {},
   "outputs": [],
   "source": [
    "import numpy as np\n",
    "import pandas as pd\n",
    "import matplotlib.pyplot as plt\n",
    "from sklearn.model_selection import train_test_split\n",
    "from sklearn.preprocessing import StandardScaler\n",
    "from tensorflow.keras.models import Sequential\n",
    "from tensorflow.keras.layers import Dense"
   ]
  },
  {
   "cell_type": "code",
   "execution_count": 3,
   "id": "4a268b1b-8570-4c49-bfc0-384d3be78902",
   "metadata": {},
   "outputs": [
    {
     "data": {
      "text/html": [
       "<div>\n",
       "<style scoped>\n",
       "    .dataframe tbody tr th:only-of-type {\n",
       "        vertical-align: middle;\n",
       "    }\n",
       "\n",
       "    .dataframe tbody tr th {\n",
       "        vertical-align: top;\n",
       "    }\n",
       "\n",
       "    .dataframe thead th {\n",
       "        text-align: right;\n",
       "    }\n",
       "</style>\n",
       "<table border=\"1\" class=\"dataframe\">\n",
       "  <thead>\n",
       "    <tr style=\"text-align: right;\">\n",
       "      <th></th>\n",
       "      <th>temperature</th>\n",
       "      <th>humidity</th>\n",
       "      <th>wind_speed</th>\n",
       "      <th>solar_irradiance</th>\n",
       "      <th>energy_consumption</th>\n",
       "    </tr>\n",
       "  </thead>\n",
       "  <tbody>\n",
       "    <tr>\n",
       "      <th>0</th>\n",
       "      <td>24.363503</td>\n",
       "      <td>31.107976</td>\n",
       "      <td>5.234114</td>\n",
       "      <td>705.432695</td>\n",
       "      <td>307.398145</td>\n",
       "    </tr>\n",
       "    <tr>\n",
       "      <th>1</th>\n",
       "      <td>38.767858</td>\n",
       "      <td>52.514057</td>\n",
       "      <td>4.939576</td>\n",
       "      <td>817.013258</td>\n",
       "      <td>412.444548</td>\n",
       "    </tr>\n",
       "    <tr>\n",
       "      <th>2</th>\n",
       "      <td>33.299849</td>\n",
       "      <td>72.376750</td>\n",
       "      <td>18.125092</td>\n",
       "      <td>325.421109</td>\n",
       "      <td>392.072418</td>\n",
       "    </tr>\n",
       "    <tr>\n",
       "      <th>3</th>\n",
       "      <td>29.966462</td>\n",
       "      <td>63.933493</td>\n",
       "      <td>4.990924</td>\n",
       "      <td>662.386690</td>\n",
       "      <td>119.254957</td>\n",
       "    </tr>\n",
       "    <tr>\n",
       "      <th>4</th>\n",
       "      <td>18.900466</td>\n",
       "      <td>68.393669</td>\n",
       "      <td>5.438995</td>\n",
       "      <td>614.571385</td>\n",
       "      <td>117.162261</td>\n",
       "    </tr>\n",
       "  </tbody>\n",
       "</table>\n",
       "</div>"
      ],
      "text/plain": [
       "   temperature   humidity  wind_speed  solar_irradiance  energy_consumption\n",
       "0    24.363503  31.107976    5.234114        705.432695          307.398145\n",
       "1    38.767858  52.514057    4.939576        817.013258          412.444548\n",
       "2    33.299849  72.376750   18.125092        325.421109          392.072418\n",
       "3    29.966462  63.933493    4.990924        662.386690          119.254957\n",
       "4    18.900466  68.393669    5.438995        614.571385          117.162261"
      ]
     },
     "execution_count": 3,
     "metadata": {},
     "output_type": "execute_result"
    }
   ],
   "source": [
    "data = pd.read_excel('predict_energy_consumption.xlsx')\n",
    "data.head()"
   ]
  },
  {
   "cell_type": "code",
   "execution_count": 4,
   "id": "080f5207-332e-4d89-bbed-d0c26065ae0b",
   "metadata": {},
   "outputs": [
    {
     "data": {
      "text/html": [
       "<div>\n",
       "<style scoped>\n",
       "    .dataframe tbody tr th:only-of-type {\n",
       "        vertical-align: middle;\n",
       "    }\n",
       "\n",
       "    .dataframe tbody tr th {\n",
       "        vertical-align: top;\n",
       "    }\n",
       "\n",
       "    .dataframe thead th {\n",
       "        text-align: right;\n",
       "    }\n",
       "</style>\n",
       "<table border=\"1\" class=\"dataframe\">\n",
       "  <thead>\n",
       "    <tr style=\"text-align: right;\">\n",
       "      <th></th>\n",
       "      <th>temperature</th>\n",
       "      <th>humidity</th>\n",
       "      <th>wind_speed</th>\n",
       "      <th>solar_irradiance</th>\n",
       "      <th>energy_consumption</th>\n",
       "    </tr>\n",
       "  </thead>\n",
       "  <tbody>\n",
       "    <tr>\n",
       "      <th>995</th>\n",
       "      <td>17.289552</td>\n",
       "      <td>59.417309</td>\n",
       "      <td>17.305915</td>\n",
       "      <td>497.896331</td>\n",
       "      <td>453.828793</td>\n",
       "    </tr>\n",
       "    <tr>\n",
       "      <th>996</th>\n",
       "      <td>37.932839</td>\n",
       "      <td>77.396877</td>\n",
       "      <td>3.145464</td>\n",
       "      <td>400.961061</td>\n",
       "      <td>103.721455</td>\n",
       "    </tr>\n",
       "    <tr>\n",
       "      <th>997</th>\n",
       "      <td>18.420466</td>\n",
       "      <td>24.137481</td>\n",
       "      <td>6.195757</td>\n",
       "      <td>455.115084</td>\n",
       "      <td>197.529277</td>\n",
       "    </tr>\n",
       "    <tr>\n",
       "      <th>998</th>\n",
       "      <td>38.755934</td>\n",
       "      <td>23.423283</td>\n",
       "      <td>5.800911</td>\n",
       "      <td>576.946528</td>\n",
       "      <td>417.085421</td>\n",
       "    </tr>\n",
       "    <tr>\n",
       "      <th>999</th>\n",
       "      <td>26.150144</td>\n",
       "      <td>36.931224</td>\n",
       "      <td>17.428281</td>\n",
       "      <td>245.230623</td>\n",
       "      <td>318.790570</td>\n",
       "    </tr>\n",
       "  </tbody>\n",
       "</table>\n",
       "</div>"
      ],
      "text/plain": [
       "     temperature   humidity  wind_speed  solar_irradiance  energy_consumption\n",
       "995    17.289552  59.417309   17.305915        497.896331          453.828793\n",
       "996    37.932839  77.396877    3.145464        400.961061          103.721455\n",
       "997    18.420466  24.137481    6.195757        455.115084          197.529277\n",
       "998    38.755934  23.423283    5.800911        576.946528          417.085421\n",
       "999    26.150144  36.931224   17.428281        245.230623          318.790570"
      ]
     },
     "execution_count": 4,
     "metadata": {},
     "output_type": "execute_result"
    }
   ],
   "source": [
    "data.tail()"
   ]
  },
  {
   "cell_type": "code",
   "execution_count": 5,
   "id": "042311ac-5294-4a27-bd88-f51aea5771ca",
   "metadata": {},
   "outputs": [
    {
     "data": {
      "text/plain": [
       "<bound method DataFrame.info of      temperature   humidity  wind_speed  solar_irradiance  energy_consumption\n",
       "0      24.363503  31.107976    5.234114        705.432695          307.398145\n",
       "1      38.767858  52.514057    4.939576        817.013258          412.444548\n",
       "2      33.299849  72.376750   18.125092        325.421109          392.072418\n",
       "3      29.966462  63.933493    4.990924        662.386690          119.254957\n",
       "4      18.900466  68.393669    5.438995        614.571385          117.162261\n",
       "..           ...        ...         ...               ...                 ...\n",
       "995    17.289552  59.417309   17.305915        497.896331          453.828793\n",
       "996    37.932839  77.396877    3.145464        400.961061          103.721455\n",
       "997    18.420466  24.137481    6.195757        455.115084          197.529277\n",
       "998    38.755934  23.423283    5.800911        576.946528          417.085421\n",
       "999    26.150144  36.931224   17.428281        245.230623          318.790570\n",
       "\n",
       "[1000 rows x 5 columns]>"
      ]
     },
     "execution_count": 5,
     "metadata": {},
     "output_type": "execute_result"
    }
   ],
   "source": [
    "data.info"
   ]
  },
  {
   "cell_type": "code",
   "execution_count": 6,
   "id": "3208aa28-4921-4e4c-b489-14315754d9a8",
   "metadata": {},
   "outputs": [
    {
     "data": {
      "text/html": [
       "<div>\n",
       "<style scoped>\n",
       "    .dataframe tbody tr th:only-of-type {\n",
       "        vertical-align: middle;\n",
       "    }\n",
       "\n",
       "    .dataframe tbody tr th {\n",
       "        vertical-align: top;\n",
       "    }\n",
       "\n",
       "    .dataframe thead th {\n",
       "        text-align: right;\n",
       "    }\n",
       "</style>\n",
       "<table border=\"1\" class=\"dataframe\">\n",
       "  <thead>\n",
       "    <tr style=\"text-align: right;\">\n",
       "      <th></th>\n",
       "      <th>count</th>\n",
       "      <th>mean</th>\n",
       "      <th>std</th>\n",
       "      <th>min</th>\n",
       "      <th>25%</th>\n",
       "      <th>50%</th>\n",
       "      <th>75%</th>\n",
       "      <th>max</th>\n",
       "    </tr>\n",
       "  </thead>\n",
       "  <tbody>\n",
       "    <tr>\n",
       "      <th>temperature</th>\n",
       "      <td>1000.0</td>\n",
       "      <td>27.256414</td>\n",
       "      <td>7.303434</td>\n",
       "      <td>15.115801</td>\n",
       "      <td>20.899332</td>\n",
       "      <td>27.420184</td>\n",
       "      <td>33.607990</td>\n",
       "      <td>39.992942</td>\n",
       "    </tr>\n",
       "    <tr>\n",
       "      <th>humidity</th>\n",
       "      <td>1000.0</td>\n",
       "      <td>50.421038</td>\n",
       "      <td>17.531394</td>\n",
       "      <td>20.193096</td>\n",
       "      <td>34.464456</td>\n",
       "      <td>51.124034</td>\n",
       "      <td>65.627903</td>\n",
       "      <td>79.964824</td>\n",
       "    </tr>\n",
       "    <tr>\n",
       "      <th>wind_speed</th>\n",
       "      <td>1000.0</td>\n",
       "      <td>10.048115</td>\n",
       "      <td>5.813484</td>\n",
       "      <td>0.000233</td>\n",
       "      <td>5.227020</td>\n",
       "      <td>10.012278</td>\n",
       "      <td>15.182071</td>\n",
       "      <td>19.956417</td>\n",
       "    </tr>\n",
       "    <tr>\n",
       "      <th>solar_irradiance</th>\n",
       "      <td>1000.0</td>\n",
       "      <td>541.337543</td>\n",
       "      <td>257.840410</td>\n",
       "      <td>100.588052</td>\n",
       "      <td>317.710693</td>\n",
       "      <td>535.851355</td>\n",
       "      <td>763.786729</td>\n",
       "      <td>999.601933</td>\n",
       "    </tr>\n",
       "    <tr>\n",
       "      <th>energy_consumption</th>\n",
       "      <td>1000.0</td>\n",
       "      <td>272.347395</td>\n",
       "      <td>129.064474</td>\n",
       "      <td>50.013823</td>\n",
       "      <td>160.238303</td>\n",
       "      <td>272.569144</td>\n",
       "      <td>382.997053</td>\n",
       "      <td>498.987225</td>\n",
       "    </tr>\n",
       "  </tbody>\n",
       "</table>\n",
       "</div>"
      ],
      "text/plain": [
       "                     count        mean         std         min         25%  \\\n",
       "temperature         1000.0   27.256414    7.303434   15.115801   20.899332   \n",
       "humidity            1000.0   50.421038   17.531394   20.193096   34.464456   \n",
       "wind_speed          1000.0   10.048115    5.813484    0.000233    5.227020   \n",
       "solar_irradiance    1000.0  541.337543  257.840410  100.588052  317.710693   \n",
       "energy_consumption  1000.0  272.347395  129.064474   50.013823  160.238303   \n",
       "\n",
       "                           50%         75%         max  \n",
       "temperature          27.420184   33.607990   39.992942  \n",
       "humidity             51.124034   65.627903   79.964824  \n",
       "wind_speed           10.012278   15.182071   19.956417  \n",
       "solar_irradiance    535.851355  763.786729  999.601933  \n",
       "energy_consumption  272.569144  382.997053  498.987225  "
      ]
     },
     "execution_count": 6,
     "metadata": {},
     "output_type": "execute_result"
    }
   ],
   "source": [
    "data.describe().T"
   ]
  },
  {
   "cell_type": "code",
   "execution_count": 7,
   "id": "f3a0dbc1-e768-43ae-8adb-4f96838713e9",
   "metadata": {},
   "outputs": [
    {
     "data": {
      "text/plain": [
       "temperature           0\n",
       "humidity              0\n",
       "wind_speed            0\n",
       "solar_irradiance      0\n",
       "energy_consumption    0\n",
       "dtype: int64"
      ]
     },
     "execution_count": 7,
     "metadata": {},
     "output_type": "execute_result"
    }
   ],
   "source": [
    "data.isnull().sum()"
   ]
  },
  {
   "cell_type": "code",
   "execution_count": 8,
   "id": "57225dea-c155-4d2f-9e6c-a54015b32662",
   "metadata": {},
   "outputs": [
    {
     "data": {
      "text/plain": [
       "0"
      ]
     },
     "execution_count": 8,
     "metadata": {},
     "output_type": "execute_result"
    }
   ],
   "source": [
    "data.isnull().sum().sum()"
   ]
  },
  {
   "cell_type": "code",
   "execution_count": 9,
   "id": "1284e8ae-c8e6-493d-b7e4-c9f6c1c9a353",
   "metadata": {},
   "outputs": [
    {
     "data": {
      "text/plain": [
       "(1000, 5)"
      ]
     },
     "execution_count": 9,
     "metadata": {},
     "output_type": "execute_result"
    }
   ],
   "source": [
    "data.shape"
   ]
  },
  {
   "cell_type": "code",
   "execution_count": 10,
   "id": "fdabfe13-edb8-49f0-b589-74e6061aec39",
   "metadata": {},
   "outputs": [
    {
     "data": {
      "text/plain": [
       "Index(['temperature', 'humidity', 'wind_speed', 'solar_irradiance',\n",
       "       'energy_consumption'],\n",
       "      dtype='object')"
      ]
     },
     "execution_count": 10,
     "metadata": {},
     "output_type": "execute_result"
    }
   ],
   "source": [
    "data.columns"
   ]
  },
  {
   "cell_type": "code",
   "execution_count": 11,
   "id": "986e88d9-1f09-4ca0-8ee2-c7e3c5f020bb",
   "metadata": {},
   "outputs": [
    {
     "data": {
      "text/plain": [
       "[RangeIndex(start=0, stop=1000, step=1),\n",
       " Index(['temperature', 'humidity', 'wind_speed', 'solar_irradiance',\n",
       "        'energy_consumption'],\n",
       "       dtype='object')]"
      ]
     },
     "execution_count": 11,
     "metadata": {},
     "output_type": "execute_result"
    }
   ],
   "source": [
    "data.axes"
   ]
  },
  {
   "cell_type": "code",
   "execution_count": 12,
   "id": "a321e334-458f-4c29-b82f-dfcebb419652",
   "metadata": {},
   "outputs": [
    {
     "data": {
      "text/plain": [
       "temperature           float64\n",
       "humidity              float64\n",
       "wind_speed            float64\n",
       "solar_irradiance      float64\n",
       "energy_consumption    float64\n",
       "dtype: object"
      ]
     },
     "execution_count": 12,
     "metadata": {},
     "output_type": "execute_result"
    }
   ],
   "source": [
    "data.dtypes"
   ]
  },
  {
   "cell_type": "code",
   "execution_count": 13,
   "id": "f930551d-77ff-4858-a4c4-fbea618dadd7",
   "metadata": {},
   "outputs": [
    {
     "data": {
      "text/html": [
       "<div>\n",
       "<style scoped>\n",
       "    .dataframe tbody tr th:only-of-type {\n",
       "        vertical-align: middle;\n",
       "    }\n",
       "\n",
       "    .dataframe tbody tr th {\n",
       "        vertical-align: top;\n",
       "    }\n",
       "\n",
       "    .dataframe thead th {\n",
       "        text-align: right;\n",
       "    }\n",
       "</style>\n",
       "<table border=\"1\" class=\"dataframe\">\n",
       "  <thead>\n",
       "    <tr style=\"text-align: right;\">\n",
       "      <th></th>\n",
       "      <th>temperature</th>\n",
       "      <th>humidity</th>\n",
       "      <th>wind_speed</th>\n",
       "      <th>solar_irradiance</th>\n",
       "      <th>energy_consumption</th>\n",
       "    </tr>\n",
       "  </thead>\n",
       "  <tbody>\n",
       "    <tr>\n",
       "      <th>count</th>\n",
       "      <td>1000.000000</td>\n",
       "      <td>1000.000000</td>\n",
       "      <td>1000.000000</td>\n",
       "      <td>1000.000000</td>\n",
       "      <td>1000.000000</td>\n",
       "    </tr>\n",
       "    <tr>\n",
       "      <th>mean</th>\n",
       "      <td>27.256414</td>\n",
       "      <td>50.421038</td>\n",
       "      <td>10.048115</td>\n",
       "      <td>541.337543</td>\n",
       "      <td>272.347395</td>\n",
       "    </tr>\n",
       "    <tr>\n",
       "      <th>std</th>\n",
       "      <td>7.303434</td>\n",
       "      <td>17.531394</td>\n",
       "      <td>5.813484</td>\n",
       "      <td>257.840410</td>\n",
       "      <td>129.064474</td>\n",
       "    </tr>\n",
       "    <tr>\n",
       "      <th>min</th>\n",
       "      <td>15.115801</td>\n",
       "      <td>20.193096</td>\n",
       "      <td>0.000233</td>\n",
       "      <td>100.588052</td>\n",
       "      <td>50.013823</td>\n",
       "    </tr>\n",
       "    <tr>\n",
       "      <th>25%</th>\n",
       "      <td>20.899332</td>\n",
       "      <td>34.464456</td>\n",
       "      <td>5.227020</td>\n",
       "      <td>317.710693</td>\n",
       "      <td>160.238303</td>\n",
       "    </tr>\n",
       "    <tr>\n",
       "      <th>50%</th>\n",
       "      <td>27.420184</td>\n",
       "      <td>51.124034</td>\n",
       "      <td>10.012278</td>\n",
       "      <td>535.851355</td>\n",
       "      <td>272.569144</td>\n",
       "    </tr>\n",
       "    <tr>\n",
       "      <th>75%</th>\n",
       "      <td>33.607990</td>\n",
       "      <td>65.627903</td>\n",
       "      <td>15.182071</td>\n",
       "      <td>763.786729</td>\n",
       "      <td>382.997053</td>\n",
       "    </tr>\n",
       "    <tr>\n",
       "      <th>max</th>\n",
       "      <td>39.992942</td>\n",
       "      <td>79.964824</td>\n",
       "      <td>19.956417</td>\n",
       "      <td>999.601933</td>\n",
       "      <td>498.987225</td>\n",
       "    </tr>\n",
       "  </tbody>\n",
       "</table>\n",
       "</div>"
      ],
      "text/plain": [
       "       temperature     humidity   wind_speed  solar_irradiance  \\\n",
       "count  1000.000000  1000.000000  1000.000000       1000.000000   \n",
       "mean     27.256414    50.421038    10.048115        541.337543   \n",
       "std       7.303434    17.531394     5.813484        257.840410   \n",
       "min      15.115801    20.193096     0.000233        100.588052   \n",
       "25%      20.899332    34.464456     5.227020        317.710693   \n",
       "50%      27.420184    51.124034    10.012278        535.851355   \n",
       "75%      33.607990    65.627903    15.182071        763.786729   \n",
       "max      39.992942    79.964824    19.956417        999.601933   \n",
       "\n",
       "       energy_consumption  \n",
       "count         1000.000000  \n",
       "mean           272.347395  \n",
       "std            129.064474  \n",
       "min             50.013823  \n",
       "25%            160.238303  \n",
       "50%            272.569144  \n",
       "75%            382.997053  \n",
       "max            498.987225  "
      ]
     },
     "execution_count": 13,
     "metadata": {},
     "output_type": "execute_result"
    }
   ],
   "source": [
    "data.describe()"
   ]
  },
  {
   "cell_type": "code",
   "execution_count": 14,
   "id": "e509726f-a5eb-4152-91b4-2c47b5874d7a",
   "metadata": {},
   "outputs": [],
   "source": [
    "# seperating independent and dependent values\n",
    "# independent values\n",
    "X = data[['temperature', 'humidity', 'wind_speed', 'solar_irradiance']].values\n",
    "# dependent values\n",
    "y = data['energy_consumption'].values"
   ]
  },
  {
   "cell_type": "code",
   "execution_count": 15,
   "id": "0e5b5622-5760-4a40-b20f-ae167ba8cbca",
   "metadata": {},
   "outputs": [],
   "source": [
    "X_train, X_test, y_train, y_test = train_test_split(X, y, test_size=0.2, random_state=42)"
   ]
  },
  {
   "cell_type": "code",
   "execution_count": 16,
   "id": "a8bc384e-db6d-4941-a0d1-8b29e6b14e92",
   "metadata": {},
   "outputs": [],
   "source": [
    "scaler = StandardScaler()\n",
    "X_train = scaler.fit_transform(X_train)\n",
    "X_test = scaler.transform(X_test)"
   ]
  },
  {
   "cell_type": "code",
   "execution_count": 18,
   "id": "f4792827-21bc-4389-88be-4cb91880c63e",
   "metadata": {},
   "outputs": [
    {
     "name": "stderr",
     "output_type": "stream",
     "text": [
      "C:\\Users\\siddd\\anaconda3\\Lib\\site-packages\\keras\\src\\layers\\core\\dense.py:87: UserWarning: Do not pass an `input_shape`/`input_dim` argument to a layer. When using Sequential models, prefer using an `Input(shape)` object as the first layer in the model instead.\n",
      "  super().__init__(activity_regularizer=activity_regularizer, **kwargs)\n"
     ]
    }
   ],
   "source": [
    "model = Sequential([\n",
    "    Dense(64, activation='relu', input_shape=(X_train.shape[1],)), # Input layers with 64 neuron\n",
    "    Dense(32, activation='relu'), # Hidden layers with 32 neurons\n",
    "    Dense(1) # Output layer for regression (1 neuron)\n",
    "])"
   ]
  },
  {
   "cell_type": "code",
   "execution_count": 19,
   "id": "f017a097-f909-494a-98dc-d2d189b63603",
   "metadata": {},
   "outputs": [],
   "source": [
    "model.compile(optimizer='adam', loss='mse', metrics=['mae'])\n",
    "#Mean Squared Error and Mean Absolute Error"
   ]
  },
  {
   "cell_type": "code",
   "execution_count": 25,
   "id": "ed718f09-ff7d-4794-ba17-ff73401f41ad",
   "metadata": {},
   "outputs": [
    {
     "name": "stdout",
     "output_type": "stream",
     "text": [
      "Epoch 1/50\n",
      "\u001b[1m20/20\u001b[0m \u001b[32m━━━━━━━━━━━━━━━━━━━━\u001b[0m\u001b[37m\u001b[0m \u001b[1m0s\u001b[0m 13ms/step - loss: 16164.7939 - mae: 108.8224 - val_loss: 17905.7051 - val_mae: 115.6050\n",
      "Epoch 2/50\n",
      "\u001b[1m20/20\u001b[0m \u001b[32m━━━━━━━━━━━━━━━━━━━━\u001b[0m\u001b[37m\u001b[0m \u001b[1m0s\u001b[0m 11ms/step - loss: 16502.3457 - mae: 111.2859 - val_loss: 17934.1816 - val_mae: 115.6801\n",
      "Epoch 3/50\n",
      "\u001b[1m20/20\u001b[0m \u001b[32m━━━━━━━━━━━━━━━━━━━━\u001b[0m\u001b[37m\u001b[0m \u001b[1m0s\u001b[0m 10ms/step - loss: 16925.3281 - mae: 112.7442 - val_loss: 17963.9922 - val_mae: 115.6972\n",
      "Epoch 4/50\n",
      "\u001b[1m20/20\u001b[0m \u001b[32m━━━━━━━━━━━━━━━━━━━━\u001b[0m\u001b[37m\u001b[0m \u001b[1m0s\u001b[0m 9ms/step - loss: 16424.5078 - mae: 110.6990 - val_loss: 17936.7969 - val_mae: 115.6831\n",
      "Epoch 5/50\n",
      "\u001b[1m20/20\u001b[0m \u001b[32m━━━━━━━━━━━━━━━━━━━━\u001b[0m\u001b[37m\u001b[0m \u001b[1m0s\u001b[0m 9ms/step - loss: 15245.9082 - mae: 106.2239 - val_loss: 17889.2266 - val_mae: 115.5963\n",
      "Epoch 6/50\n",
      "\u001b[1m20/20\u001b[0m \u001b[32m━━━━━━━━━━━━━━━━━━━━\u001b[0m\u001b[37m\u001b[0m \u001b[1m0s\u001b[0m 9ms/step - loss: 16653.9434 - mae: 111.2237 - val_loss: 17926.0996 - val_mae: 115.6521\n",
      "Epoch 7/50\n",
      "\u001b[1m20/20\u001b[0m \u001b[32m━━━━━━━━━━━━━━━━━━━━\u001b[0m\u001b[37m\u001b[0m \u001b[1m0s\u001b[0m 10ms/step - loss: 17273.6113 - mae: 113.7113 - val_loss: 17948.6875 - val_mae: 115.7304\n",
      "Epoch 8/50\n",
      "\u001b[1m20/20\u001b[0m \u001b[32m━━━━━━━━━━━━━━━━━━━━\u001b[0m\u001b[37m\u001b[0m \u001b[1m0s\u001b[0m 10ms/step - loss: 17412.5527 - mae: 114.8184 - val_loss: 17935.7969 - val_mae: 115.7329\n",
      "Epoch 9/50\n",
      "\u001b[1m20/20\u001b[0m \u001b[32m━━━━━━━━━━━━━━━━━━━━\u001b[0m\u001b[37m\u001b[0m \u001b[1m0s\u001b[0m 12ms/step - loss: 16315.9834 - mae: 110.4337 - val_loss: 17905.1309 - val_mae: 115.6393\n",
      "Epoch 10/50\n",
      "\u001b[1m20/20\u001b[0m \u001b[32m━━━━━━━━━━━━━━━━━━━━\u001b[0m\u001b[37m\u001b[0m \u001b[1m0s\u001b[0m 11ms/step - loss: 15650.2891 - mae: 108.2827 - val_loss: 17912.1719 - val_mae: 115.6524\n",
      "Epoch 11/50\n",
      "\u001b[1m20/20\u001b[0m \u001b[32m━━━━━━━━━━━━━━━━━━━━\u001b[0m\u001b[37m\u001b[0m \u001b[1m0s\u001b[0m 9ms/step - loss: 16758.9375 - mae: 113.0679 - val_loss: 17922.7715 - val_mae: 115.7378\n",
      "Epoch 12/50\n",
      "\u001b[1m20/20\u001b[0m \u001b[32m━━━━━━━━━━━━━━━━━━━━\u001b[0m\u001b[37m\u001b[0m \u001b[1m0s\u001b[0m 8ms/step - loss: 16093.9658 - mae: 109.3749 - val_loss: 17960.4414 - val_mae: 115.7501\n",
      "Epoch 13/50\n",
      "\u001b[1m20/20\u001b[0m \u001b[32m━━━━━━━━━━━━━━━━━━━━\u001b[0m\u001b[37m\u001b[0m \u001b[1m0s\u001b[0m 12ms/step - loss: 16051.6963 - mae: 108.9260 - val_loss: 17903.4414 - val_mae: 115.6814\n",
      "Epoch 14/50\n",
      "\u001b[1m20/20\u001b[0m \u001b[32m━━━━━━━━━━━━━━━━━━━━\u001b[0m\u001b[37m\u001b[0m \u001b[1m0s\u001b[0m 8ms/step - loss: 16403.8418 - mae: 111.1085 - val_loss: 17938.7637 - val_mae: 115.7604\n",
      "Epoch 15/50\n",
      "\u001b[1m20/20\u001b[0m \u001b[32m━━━━━━━━━━━━━━━━━━━━\u001b[0m\u001b[37m\u001b[0m \u001b[1m0s\u001b[0m 8ms/step - loss: 16080.4561 - mae: 109.6445 - val_loss: 17887.0254 - val_mae: 115.6496\n",
      "Epoch 16/50\n",
      "\u001b[1m20/20\u001b[0m \u001b[32m━━━━━━━━━━━━━━━━━━━━\u001b[0m\u001b[37m\u001b[0m \u001b[1m0s\u001b[0m 10ms/step - loss: 17056.7129 - mae: 113.8498 - val_loss: 17899.4863 - val_mae: 115.6365\n",
      "Epoch 17/50\n",
      "\u001b[1m20/20\u001b[0m \u001b[32m━━━━━━━━━━━━━━━━━━━━\u001b[0m\u001b[37m\u001b[0m \u001b[1m0s\u001b[0m 8ms/step - loss: 17438.1992 - mae: 115.1774 - val_loss: 17904.3965 - val_mae: 115.6685\n",
      "Epoch 18/50\n",
      "\u001b[1m20/20\u001b[0m \u001b[32m━━━━━━━━━━━━━━━━━━━━\u001b[0m\u001b[37m\u001b[0m \u001b[1m0s\u001b[0m 11ms/step - loss: 15598.7559 - mae: 107.7397 - val_loss: 17908.1719 - val_mae: 115.7333\n",
      "Epoch 19/50\n",
      "\u001b[1m20/20\u001b[0m \u001b[32m━━━━━━━━━━━━━━━━━━━━\u001b[0m\u001b[37m\u001b[0m \u001b[1m0s\u001b[0m 8ms/step - loss: 16377.2783 - mae: 111.6845 - val_loss: 17920.6387 - val_mae: 115.6733\n",
      "Epoch 20/50\n",
      "\u001b[1m20/20\u001b[0m \u001b[32m━━━━━━━━━━━━━━━━━━━━\u001b[0m\u001b[37m\u001b[0m \u001b[1m0s\u001b[0m 11ms/step - loss: 16278.2754 - mae: 109.9593 - val_loss: 17906.1504 - val_mae: 115.7188\n",
      "Epoch 21/50\n",
      "\u001b[1m20/20\u001b[0m \u001b[32m━━━━━━━━━━━━━━━━━━━━\u001b[0m\u001b[37m\u001b[0m \u001b[1m0s\u001b[0m 13ms/step - loss: 16803.5957 - mae: 112.0023 - val_loss: 17882.4551 - val_mae: 115.6518\n",
      "Epoch 22/50\n",
      "\u001b[1m20/20\u001b[0m \u001b[32m━━━━━━━━━━━━━━━━━━━━\u001b[0m\u001b[37m\u001b[0m \u001b[1m0s\u001b[0m 10ms/step - loss: 15010.6416 - mae: 104.2201 - val_loss: 17950.7773 - val_mae: 115.8228\n",
      "Epoch 23/50\n",
      "\u001b[1m20/20\u001b[0m \u001b[32m━━━━━━━━━━━━━━━━━━━━\u001b[0m\u001b[37m\u001b[0m \u001b[1m0s\u001b[0m 10ms/step - loss: 16911.9434 - mae: 113.3293 - val_loss: 17931.7051 - val_mae: 115.7746\n",
      "Epoch 24/50\n",
      "\u001b[1m20/20\u001b[0m \u001b[32m━━━━━━━━━━━━━━━━━━━━\u001b[0m\u001b[37m\u001b[0m \u001b[1m0s\u001b[0m 11ms/step - loss: 16221.0469 - mae: 109.5124 - val_loss: 17872.4727 - val_mae: 115.6848\n",
      "Epoch 25/50\n",
      "\u001b[1m20/20\u001b[0m \u001b[32m━━━━━━━━━━━━━━━━━━━━\u001b[0m\u001b[37m\u001b[0m \u001b[1m0s\u001b[0m 10ms/step - loss: 16529.2949 - mae: 112.9214 - val_loss: 17872.7129 - val_mae: 115.6303\n",
      "Epoch 26/50\n",
      "\u001b[1m20/20\u001b[0m \u001b[32m━━━━━━━━━━━━━━━━━━━━\u001b[0m\u001b[37m\u001b[0m \u001b[1m0s\u001b[0m 10ms/step - loss: 17127.4902 - mae: 114.3376 - val_loss: 17895.1680 - val_mae: 115.7257\n",
      "Epoch 27/50\n",
      "\u001b[1m20/20\u001b[0m \u001b[32m━━━━━━━━━━━━━━━━━━━━\u001b[0m\u001b[37m\u001b[0m \u001b[1m0s\u001b[0m 8ms/step - loss: 16592.6973 - mae: 111.8074 - val_loss: 17897.5566 - val_mae: 115.7137\n",
      "Epoch 28/50\n",
      "\u001b[1m20/20\u001b[0m \u001b[32m━━━━━━━━━━━━━━━━━━━━\u001b[0m\u001b[37m\u001b[0m \u001b[1m0s\u001b[0m 8ms/step - loss: 17594.4570 - mae: 115.8952 - val_loss: 17887.4375 - val_mae: 115.6687\n",
      "Epoch 29/50\n",
      "\u001b[1m20/20\u001b[0m \u001b[32m━━━━━━━━━━━━━━━━━━━━\u001b[0m\u001b[37m\u001b[0m \u001b[1m0s\u001b[0m 10ms/step - loss: 16543.0684 - mae: 111.1771 - val_loss: 17860.9824 - val_mae: 115.6566\n",
      "Epoch 30/50\n",
      "\u001b[1m20/20\u001b[0m \u001b[32m━━━━━━━━━━━━━━━━━━━━\u001b[0m\u001b[37m\u001b[0m \u001b[1m0s\u001b[0m 14ms/step - loss: 16148.1318 - mae: 109.7549 - val_loss: 17868.5195 - val_mae: 115.6665\n",
      "Epoch 31/50\n",
      "\u001b[1m20/20\u001b[0m \u001b[32m━━━━━━━━━━━━━━━━━━━━\u001b[0m\u001b[37m\u001b[0m \u001b[1m0s\u001b[0m 10ms/step - loss: 16972.3262 - mae: 113.2872 - val_loss: 17889.0703 - val_mae: 115.6915\n",
      "Epoch 32/50\n",
      "\u001b[1m20/20\u001b[0m \u001b[32m━━━━━━━━━━━━━━━━━━━━\u001b[0m\u001b[37m\u001b[0m \u001b[1m0s\u001b[0m 10ms/step - loss: 15745.8857 - mae: 109.2334 - val_loss: 17871.7070 - val_mae: 115.6467\n",
      "Epoch 33/50\n",
      "\u001b[1m20/20\u001b[0m \u001b[32m━━━━━━━━━━━━━━━━━━━━\u001b[0m\u001b[37m\u001b[0m \u001b[1m0s\u001b[0m 9ms/step - loss: 16608.5312 - mae: 111.5125 - val_loss: 17910.9316 - val_mae: 115.7592\n",
      "Epoch 34/50\n",
      "\u001b[1m20/20\u001b[0m \u001b[32m━━━━━━━━━━━━━━━━━━━━\u001b[0m\u001b[37m\u001b[0m \u001b[1m0s\u001b[0m 8ms/step - loss: 16966.5215 - mae: 113.7674 - val_loss: 17825.2695 - val_mae: 115.5830\n",
      "Epoch 35/50\n",
      "\u001b[1m20/20\u001b[0m \u001b[32m━━━━━━━━━━━━━━━━━━━━\u001b[0m\u001b[37m\u001b[0m \u001b[1m0s\u001b[0m 7ms/step - loss: 16578.1484 - mae: 111.9862 - val_loss: 17928.2070 - val_mae: 115.7981\n",
      "Epoch 36/50\n",
      "\u001b[1m20/20\u001b[0m \u001b[32m━━━━━━━━━━━━━━━━━━━━\u001b[0m\u001b[37m\u001b[0m \u001b[1m0s\u001b[0m 8ms/step - loss: 16768.4707 - mae: 112.6335 - val_loss: 17894.8242 - val_mae: 115.7293\n",
      "Epoch 37/50\n",
      "\u001b[1m20/20\u001b[0m \u001b[32m━━━━━━━━━━━━━━━━━━━━\u001b[0m\u001b[37m\u001b[0m \u001b[1m0s\u001b[0m 10ms/step - loss: 15894.9854 - mae: 108.7305 - val_loss: 17845.9180 - val_mae: 115.6736\n",
      "Epoch 38/50\n",
      "\u001b[1m20/20\u001b[0m \u001b[32m━━━━━━━━━━━━━━━━━━━━\u001b[0m\u001b[37m\u001b[0m \u001b[1m0s\u001b[0m 12ms/step - loss: 15785.9199 - mae: 108.6931 - val_loss: 17895.4805 - val_mae: 115.7351\n",
      "Epoch 39/50\n",
      "\u001b[1m20/20\u001b[0m \u001b[32m━━━━━━━━━━━━━━━━━━━━\u001b[0m\u001b[37m\u001b[0m \u001b[1m0s\u001b[0m 8ms/step - loss: 16507.1758 - mae: 110.6929 - val_loss: 17883.8457 - val_mae: 115.7218\n",
      "Epoch 40/50\n",
      "\u001b[1m20/20\u001b[0m \u001b[32m━━━━━━━━━━━━━━━━━━━━\u001b[0m\u001b[37m\u001b[0m \u001b[1m0s\u001b[0m 8ms/step - loss: 16775.6660 - mae: 112.7665 - val_loss: 17836.1465 - val_mae: 115.6151\n",
      "Epoch 41/50\n",
      "\u001b[1m20/20\u001b[0m \u001b[32m━━━━━━━━━━━━━━━━━━━━\u001b[0m\u001b[37m\u001b[0m \u001b[1m0s\u001b[0m 11ms/step - loss: 16581.4609 - mae: 112.3238 - val_loss: 17875.4297 - val_mae: 115.6619\n",
      "Epoch 42/50\n",
      "\u001b[1m20/20\u001b[0m \u001b[32m━━━━━━━━━━━━━━━━━━━━\u001b[0m\u001b[37m\u001b[0m \u001b[1m0s\u001b[0m 8ms/step - loss: 16493.9609 - mae: 112.2491 - val_loss: 17876.1914 - val_mae: 115.6361\n",
      "Epoch 43/50\n",
      "\u001b[1m20/20\u001b[0m \u001b[32m━━━━━━━━━━━━━━━━━━━━\u001b[0m\u001b[37m\u001b[0m \u001b[1m0s\u001b[0m 8ms/step - loss: 16460.2676 - mae: 110.9185 - val_loss: 17827.0469 - val_mae: 115.6034\n",
      "Epoch 44/50\n",
      "\u001b[1m20/20\u001b[0m \u001b[32m━━━━━━━━━━━━━━━━━━━━\u001b[0m\u001b[37m\u001b[0m \u001b[1m0s\u001b[0m 8ms/step - loss: 16484.8438 - mae: 111.7412 - val_loss: 17875.8809 - val_mae: 115.6964\n",
      "Epoch 45/50\n",
      "\u001b[1m20/20\u001b[0m \u001b[32m━━━━━━━━━━━━━━━━━━━━\u001b[0m\u001b[37m\u001b[0m \u001b[1m0s\u001b[0m 8ms/step - loss: 16619.1641 - mae: 112.6997 - val_loss: 17852.8906 - val_mae: 115.6427\n",
      "Epoch 46/50\n",
      "\u001b[1m20/20\u001b[0m \u001b[32m━━━━━━━━━━━━━━━━━━━━\u001b[0m\u001b[37m\u001b[0m \u001b[1m0s\u001b[0m 8ms/step - loss: 15593.4531 - mae: 107.1730 - val_loss: 17867.0938 - val_mae: 115.6301\n",
      "Epoch 47/50\n",
      "\u001b[1m20/20\u001b[0m \u001b[32m━━━━━━━━━━━━━━━━━━━━\u001b[0m\u001b[37m\u001b[0m \u001b[1m0s\u001b[0m 8ms/step - loss: 15763.8330 - mae: 108.3711 - val_loss: 17883.4023 - val_mae: 115.7340\n",
      "Epoch 48/50\n",
      "\u001b[1m20/20\u001b[0m \u001b[32m━━━━━━━━━━━━━━━━━━━━\u001b[0m\u001b[37m\u001b[0m \u001b[1m0s\u001b[0m 8ms/step - loss: 16232.9424 - mae: 111.1515 - val_loss: 17823.5547 - val_mae: 115.6228\n",
      "Epoch 49/50\n",
      "\u001b[1m20/20\u001b[0m \u001b[32m━━━━━━━━━━━━━━━━━━━━\u001b[0m\u001b[37m\u001b[0m \u001b[1m0s\u001b[0m 9ms/step - loss: 16059.1504 - mae: 108.7883 - val_loss: 17874.7227 - val_mae: 115.7203\n",
      "Epoch 50/50\n",
      "\u001b[1m20/20\u001b[0m \u001b[32m━━━━━━━━━━━━━━━━━━━━\u001b[0m\u001b[37m\u001b[0m \u001b[1m0s\u001b[0m 8ms/step - loss: 15965.4463 - mae: 110.8519 - val_loss: 17825.3945 - val_mae: 115.5914\n"
     ]
    }
   ],
   "source": [
    "history = model.fit(X_train, y_train, epochs=50, batch_size=32, validation_split=0.2, verbose=1) \n",
    "# verbose = it detailed the ouput"
   ]
  },
  {
   "cell_type": "code",
   "execution_count": 26,
   "id": "45664082-0ae4-4a9c-8578-cbc98ab3de8e",
   "metadata": {},
   "outputs": [
    {
     "name": "stdout",
     "output_type": "stream",
     "text": [
      "\u001b[1m7/7\u001b[0m \u001b[32m━━━━━━━━━━━━━━━━━━━━\u001b[0m\u001b[37m\u001b[0m \u001b[1m0s\u001b[0m 7ms/step - loss: 17805.1133 - mae: 114.8368 \n",
      "Test Mean Absolute Error: 114.77\n"
     ]
    }
   ],
   "source": [
    "test_loss, test_mae = model.evaluate(X_test, y_test, verbose=1)\n",
    "print(f\"Test Mean Absolute Error: {test_mae:.2f}\")"
   ]
  },
  {
   "cell_type": "code",
   "execution_count": 27,
   "id": "2e590f4b-915c-4b90-ba76-2a3423513aa2",
   "metadata": {},
   "outputs": [
    {
     "data": {
      "image/png": "[encoded data removed]",
      "text/plain": [
       "<Figure size 640x480 with 1 Axes>"
      ]
     },
     "metadata": {},
     "output_type": "display_data"
    }
   ],
   "source": [
    "plt.plot(history.history['loss'], label='Training Loss')\n",
    "plt.plot(history.history['val_loss'], label='Validation Loss')\n",
    "plt.xlabel('Epochs')\n",
    "plt.ylabel('Loss')\n",
    "plt.title('Model Training Performance')\n",
    "plt.legend()\n",
    "plt.show()"
   ]
  },
  {
   "cell_type": "code",
   "execution_count": 28,
   "id": "0813b2e0-5327-47ff-8130-ca86ba41b4d1",
   "metadata": {},
   "outputs": [
    {
     "name": "stdout",
     "output_type": "stream",
     "text": [
      "\u001b[1m7/7\u001b[0m \u001b[32m━━━━━━━━━━━━━━━━━━━━\u001b[0m\u001b[37m\u001b[0m \u001b[1m0s\u001b[0m 18ms/step\n"
     ]
    },
    {
     "data": {
      "text/plain": [
       "array([[282.28992],\n",
       "       [258.8988 ],\n",
       "       [255.80637],\n",
       "       [234.26947],\n",
       "       [342.23517],\n",
       "       [299.39902],\n",
       "       [309.70844],\n",
       "       [289.75537],\n",
       "       [290.17035],\n",
       "       [272.0205 ],\n",
       "       [236.6903 ],\n",
       "       [261.51248],\n",
       "       [286.7565 ],\n",
       "       [242.00557],\n",
       "       [294.95367],\n",
       "       [312.69754],\n",
       "       [269.07663],\n",
       "       [315.74564],\n",
       "       [294.16376],\n",
       "       [234.2976 ],\n",
       "       [276.5481 ],\n",
       "       [290.08832],\n",
       "       [268.31686],\n",
       "       [280.23483],\n",
       "       [263.04092],\n",
       "       [252.63675],\n",
       "       [255.07602],\n",
       "       [311.28674],\n",
       "       [308.92032],\n",
       "       [263.8785 ],\n",
       "       [249.29807],\n",
       "       [290.02838],\n",
       "       [288.0127 ],\n",
       "       [251.47327],\n",
       "       [304.6755 ],\n",
       "       [292.16656],\n",
       "       [238.49957],\n",
       "       [254.7489 ],\n",
       "       [272.91425],\n",
       "       [239.09415],\n",
       "       [253.44751],\n",
       "       [252.41304],\n",
       "       [250.60757],\n",
       "       [252.41931],\n",
       "       [269.09805],\n",
       "       [250.54015],\n",
       "       [259.98355],\n",
       "       [250.48901],\n",
       "       [286.68372],\n",
       "       [291.48538],\n",
       "       [243.43611],\n",
       "       [271.67905],\n",
       "       [242.18651],\n",
       "       [229.92773],\n",
       "       [304.45416],\n",
       "       [293.06113],\n",
       "       [248.91336],\n",
       "       [265.48987],\n",
       "       [271.82413],\n",
       "       [284.25024],\n",
       "       [261.80386],\n",
       "       [281.34064],\n",
       "       [275.50507],\n",
       "       [309.40994],\n",
       "       [287.52167],\n",
       "       [263.70322],\n",
       "       [300.06824],\n",
       "       [244.84999],\n",
       "       [253.88818],\n",
       "       [244.49387],\n",
       "       [307.6384 ],\n",
       "       [236.55255],\n",
       "       [268.64346],\n",
       "       [258.38925],\n",
       "       [271.82928],\n",
       "       [287.9585 ],\n",
       "       [234.16052],\n",
       "       [234.31516],\n",
       "       [273.6805 ],\n",
       "       [270.13983],\n",
       "       [241.22716],\n",
       "       [285.8076 ],\n",
       "       [258.8397 ],\n",
       "       [280.2148 ],\n",
       "       [232.71082],\n",
       "       [258.54807],\n",
       "       [295.04807],\n",
       "       [254.58148],\n",
       "       [220.52553],\n",
       "       [287.82108],\n",
       "       [314.10333],\n",
       "       [269.0096 ],\n",
       "       [295.0327 ],\n",
       "       [252.4511 ],\n",
       "       [245.85052],\n",
       "       [251.99915],\n",
       "       [250.52687],\n",
       "       [269.32187],\n",
       "       [223.60507],\n",
       "       [263.57346],\n",
       "       [279.3667 ],\n",
       "       [246.9378 ],\n",
       "       [262.488  ],\n",
       "       [261.51572],\n",
       "       [239.38637],\n",
       "       [240.98029],\n",
       "       [333.16058],\n",
       "       [297.30386],\n",
       "       [266.7665 ],\n",
       "       [248.7142 ],\n",
       "       [326.9533 ],\n",
       "       [261.1463 ],\n",
       "       [311.5542 ],\n",
       "       [241.40683],\n",
       "       [274.14862],\n",
       "       [279.14133],\n",
       "       [245.95348],\n",
       "       [279.75342],\n",
       "       [250.31903],\n",
       "       [319.41846],\n",
       "       [240.35965],\n",
       "       [285.81476],\n",
       "       [227.7972 ],\n",
       "       [265.63843],\n",
       "       [264.38132],\n",
       "       [243.96545],\n",
       "       [223.51012],\n",
       "       [278.80328],\n",
       "       [253.46815],\n",
       "       [277.7263 ],\n",
       "       [319.77023],\n",
       "       [275.80237],\n",
       "       [295.34558],\n",
       "       [280.7554 ],\n",
       "       [264.28897],\n",
       "       [272.9695 ],\n",
       "       [272.7353 ],\n",
       "       [263.32892],\n",
       "       [264.0049 ],\n",
       "       [255.88716],\n",
       "       [284.22983],\n",
       "       [301.26   ],\n",
       "       [269.43463],\n",
       "       [257.12177],\n",
       "       [242.37611],\n",
       "       [243.10132],\n",
       "       [264.4275 ],\n",
       "       [286.7338 ],\n",
       "       [235.93655],\n",
       "       [286.50256],\n",
       "       [242.09319],\n",
       "       [273.48322],\n",
       "       [281.9676 ],\n",
       "       [294.55984],\n",
       "       [241.5845 ],\n",
       "       [266.93637],\n",
       "       [261.22565],\n",
       "       [235.14478],\n",
       "       [294.378  ],\n",
       "       [283.6503 ],\n",
       "       [239.92754],\n",
       "       [271.15997],\n",
       "       [244.60095],\n",
       "       [234.60205],\n",
       "       [253.56496],\n",
       "       [293.6116 ],\n",
       "       [269.72906],\n",
       "       [282.55664],\n",
       "       [278.20734],\n",
       "       [245.58954],\n",
       "       [260.8661 ],\n",
       "       [242.5615 ],\n",
       "       [274.85693],\n",
       "       [256.476  ],\n",
       "       [245.37953],\n",
       "       [246.57541],\n",
       "       [282.11798],\n",
       "       [249.3641 ],\n",
       "       [278.534  ],\n",
       "       [264.56573],\n",
       "       [228.5736 ],\n",
       "       [251.28577],\n",
       "       [279.7992 ],\n",
       "       [233.53511],\n",
       "       [221.98772],\n",
       "       [235.64099],\n",
       "       [309.18912],\n",
       "       [247.1065 ],\n",
       "       [284.76602],\n",
       "       [269.21857],\n",
       "       [292.8221 ],\n",
       "       [282.87933],\n",
       "       [258.69162],\n",
       "       [266.6556 ],\n",
       "       [288.95776],\n",
       "       [273.92102],\n",
       "       [266.18704],\n",
       "       [247.6706 ],\n",
       "       [249.15533],\n",
       "       [297.18793]], dtype=float32)"
      ]
     },
     "execution_count": 28,
     "metadata": {},
     "output_type": "execute_result"
    }
   ],
   "source": [
    "predictions = model.predict(X_test)\n",
    "predictions"
   ]
  },
  {
   "cell_type": "code",
   "execution_count": 29,
   "id": "8fbbb537-b864-4691-a26c-bef66f0a3764",
   "metadata": {},
   "outputs": [
    {
     "data": {
      "image/png": "[encoded data removed]",
      "text/plain": [
       "<Figure size 640x480 with 1 Axes>"
      ]
     },
     "metadata": {},
     "output_type": "display_data"
    }
   ],
   "source": [
    "plt.scatter(y_test, predictions)\n",
    "plt.xlabel('True Energy Consumption')\n",
    "plt.ylabel('Predicted Energy Consumption')\n",
    "plt.title('Predictions vs True Values')\n",
    "plt.show()"
   ]
  },
  {
   "cell_type": "code",
   "execution_count": null,
   "id": "08905cd4-290e-421d-818c-6c200121274a",
   "metadata": {},
   "outputs": [],
   "source": []
  }
 ],
 "metadata": {
  "kernelspec": {
   "display_name": "Python 3 (ipykernel)",
   "language": "python",
   "name": "python3"
  },
  "language_info": {
   "codemirror_mode": {
    "name": "ipython",
    "version": 3
   },
   "file_extension": ".py",
   "mimetype": "text/x-python",
   "name": "python",
   "nbconvert_exporter": "python",
   "pygments_lexer": "ipython3",
   "version": "3.12.4"
  }
 },
 "nbformat": 4,
 "nbformat_minor": 5
}
